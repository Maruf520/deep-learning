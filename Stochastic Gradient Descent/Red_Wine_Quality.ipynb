{
 "cells": [
  {
   "cell_type": "code",
   "execution_count": 114,
   "metadata": {},
   "outputs": [],
   "source": [
    "import pandas as pd\n",
    "from IPython.display import display\n",
    "\n",
    "red_wine = pd.read_csv('./Data/winequality-red.csv')"
   ]
  },
  {
   "cell_type": "markdown",
   "metadata": {},
   "source": [
    "#creating training and validation split"
   ]
  },
  {
   "cell_type": "code",
   "execution_count": 115,
   "metadata": {},
   "outputs": [
    {
     "data": {
      "text/html": [
       "<div>\n",
       "<style scoped>\n",
       "    .dataframe tbody tr th:only-of-type {\n",
       "        vertical-align: middle;\n",
       "    }\n",
       "\n",
       "    .dataframe tbody tr th {\n",
       "        vertical-align: top;\n",
       "    }\n",
       "\n",
       "    .dataframe thead th {\n",
       "        text-align: right;\n",
       "    }\n",
       "</style>\n",
       "<table border=\"1\" class=\"dataframe\">\n",
       "  <thead>\n",
       "    <tr style=\"text-align: right;\">\n",
       "      <th></th>\n",
       "      <th>fixed acidity</th>\n",
       "      <th>volatile acidity</th>\n",
       "      <th>citric acid</th>\n",
       "      <th>residual sugar</th>\n",
       "      <th>chlorides</th>\n",
       "      <th>free sulfur dioxide</th>\n",
       "      <th>total sulfur dioxide</th>\n",
       "      <th>density</th>\n",
       "      <th>pH</th>\n",
       "      <th>sulphates</th>\n",
       "      <th>alcohol</th>\n",
       "      <th>quality</th>\n",
       "    </tr>\n",
       "  </thead>\n",
       "  <tbody>\n",
       "    <tr>\n",
       "      <th>1109</th>\n",
       "      <td>10.8</td>\n",
       "      <td>0.470</td>\n",
       "      <td>0.43</td>\n",
       "      <td>2.10</td>\n",
       "      <td>0.171</td>\n",
       "      <td>27.0</td>\n",
       "      <td>66.0</td>\n",
       "      <td>0.99820</td>\n",
       "      <td>3.17</td>\n",
       "      <td>0.76</td>\n",
       "      <td>10.8</td>\n",
       "      <td>6</td>\n",
       "    </tr>\n",
       "    <tr>\n",
       "      <th>1032</th>\n",
       "      <td>8.1</td>\n",
       "      <td>0.820</td>\n",
       "      <td>0.00</td>\n",
       "      <td>4.10</td>\n",
       "      <td>0.095</td>\n",
       "      <td>5.0</td>\n",
       "      <td>14.0</td>\n",
       "      <td>0.99854</td>\n",
       "      <td>3.36</td>\n",
       "      <td>0.53</td>\n",
       "      <td>9.6</td>\n",
       "      <td>5</td>\n",
       "    </tr>\n",
       "    <tr>\n",
       "      <th>1002</th>\n",
       "      <td>9.1</td>\n",
       "      <td>0.290</td>\n",
       "      <td>0.33</td>\n",
       "      <td>2.05</td>\n",
       "      <td>0.063</td>\n",
       "      <td>13.0</td>\n",
       "      <td>27.0</td>\n",
       "      <td>0.99516</td>\n",
       "      <td>3.26</td>\n",
       "      <td>0.84</td>\n",
       "      <td>11.7</td>\n",
       "      <td>7</td>\n",
       "    </tr>\n",
       "    <tr>\n",
       "      <th>487</th>\n",
       "      <td>10.2</td>\n",
       "      <td>0.645</td>\n",
       "      <td>0.36</td>\n",
       "      <td>1.80</td>\n",
       "      <td>0.053</td>\n",
       "      <td>5.0</td>\n",
       "      <td>14.0</td>\n",
       "      <td>0.99820</td>\n",
       "      <td>3.17</td>\n",
       "      <td>0.42</td>\n",
       "      <td>10.0</td>\n",
       "      <td>6</td>\n",
       "    </tr>\n",
       "  </tbody>\n",
       "</table>\n",
       "</div>"
      ],
      "text/plain": [
       "      fixed acidity  volatile acidity  citric acid  residual sugar  chlorides  \\\n",
       "1109           10.8             0.470         0.43            2.10      0.171   \n",
       "1032            8.1             0.820         0.00            4.10      0.095   \n",
       "1002            9.1             0.290         0.33            2.05      0.063   \n",
       "487            10.2             0.645         0.36            1.80      0.053   \n",
       "\n",
       "      free sulfur dioxide  total sulfur dioxide  density    pH  sulphates  \\\n",
       "1109                 27.0                  66.0  0.99820  3.17       0.76   \n",
       "1032                  5.0                  14.0  0.99854  3.36       0.53   \n",
       "1002                 13.0                  27.0  0.99516  3.26       0.84   \n",
       "487                   5.0                  14.0  0.99820  3.17       0.42   \n",
       "\n",
       "      alcohol  quality  \n",
       "1109     10.8        6  \n",
       "1032      9.6        5  \n",
       "1002     11.7        7  \n",
       "487      10.0        6  "
      ]
     },
     "metadata": {},
     "output_type": "display_data"
    }
   ],
   "source": [
    "\n",
    "df_train = red_wine.sample(frac=0.7, random_state=0)\n",
    "df_valid = red_wine.drop(df_train.index)\n",
    "display(df_train.head(4))"
   ]
  },
  {
   "cell_type": "markdown",
   "metadata": {},
   "source": [
    "#Scale 0 to 1"
   ]
  },
  {
   "cell_type": "code",
   "execution_count": 116,
   "metadata": {},
   "outputs": [],
   "source": [
    "\n",
    "max_ = df_train.max(axis=0)\n",
    "min_ = df_train.min(axis=0)\n",
    "df_train = (df_train - min_) / (max_ - min_)\n",
    "df_valid = (df_valid - min_) / (max_ - min_)"
   ]
  },
  {
   "cell_type": "markdown",
   "metadata": {},
   "source": [
    "#Split features and target"
   ]
  },
  {
   "cell_type": "code",
   "execution_count": 117,
   "metadata": {},
   "outputs": [],
   "source": [
    "X_train = df_train.drop('quality', axis=1)\n",
    "X_valid = df_train.drop('quality', axis=1)\n",
    "Y_train = df_train['quality']\n",
    "Y_valid = df_train['quality']"
   ]
  },
  {
   "cell_type": "markdown",
   "metadata": {},
   "source": [
    "#Get  raw count"
   ]
  },
  {
   "cell_type": "code",
   "execution_count": 118,
   "metadata": {},
   "outputs": [
    {
     "name": "stdout",
     "output_type": "stream",
     "text": [
      "Number of rows in X_train: 1119\n",
      "Number of rows in X_valid: 1119\n",
      "Number of rows in Y_train: 1119\n",
      "Number of rows in Y_valid: 1119\n"
     ]
    }
   ],
   "source": [
    "# For DataFrames\n",
    "num_rows_X_train = X_train.shape[0]\n",
    "num_rows_X_valid = X_valid.shape[0]\n",
    "\n",
    "# For Series\n",
    "num_rows_Y_train = Y_train.shape[0]\n",
    "num_rows_Y_valid = Y_valid.shape[0]\n",
    "\n",
    "print(f\"Number of rows in X_train: {num_rows_X_train}\")\n",
    "print(f\"Number of rows in X_valid: {num_rows_X_valid}\")\n",
    "print(f\"Number of rows in Y_train: {num_rows_Y_train}\")\n",
    "print(f\"Number of rows in Y_valid: {num_rows_Y_valid}\")\n"
   ]
  },
  {
   "cell_type": "markdown",
   "metadata": {},
   "source": [
    "#We can find how many rows and columns we have. Columns means inputs"
   ]
  },
  {
   "cell_type": "code",
   "execution_count": 119,
   "metadata": {},
   "outputs": [
    {
     "data": {
      "text/html": [
       "<div>\n",
       "<style scoped>\n",
       "    .dataframe tbody tr th:only-of-type {\n",
       "        vertical-align: middle;\n",
       "    }\n",
       "\n",
       "    .dataframe tbody tr th {\n",
       "        vertical-align: top;\n",
       "    }\n",
       "\n",
       "    .dataframe thead th {\n",
       "        text-align: right;\n",
       "    }\n",
       "</style>\n",
       "<table border=\"1\" class=\"dataframe\">\n",
       "  <thead>\n",
       "    <tr style=\"text-align: right;\">\n",
       "      <th></th>\n",
       "      <th>fixed acidity</th>\n",
       "      <th>volatile acidity</th>\n",
       "      <th>citric acid</th>\n",
       "      <th>residual sugar</th>\n",
       "      <th>chlorides</th>\n",
       "      <th>free sulfur dioxide</th>\n",
       "      <th>total sulfur dioxide</th>\n",
       "      <th>density</th>\n",
       "      <th>pH</th>\n",
       "      <th>sulphates</th>\n",
       "      <th>alcohol</th>\n",
       "    </tr>\n",
       "  </thead>\n",
       "  <tbody>\n",
       "    <tr>\n",
       "      <th>1109</th>\n",
       "      <td>0.548673</td>\n",
       "      <td>0.239726</td>\n",
       "      <td>0.544304</td>\n",
       "      <td>0.092308</td>\n",
       "      <td>0.237435</td>\n",
       "      <td>0.366197</td>\n",
       "      <td>0.212014</td>\n",
       "      <td>0.619193</td>\n",
       "      <td>0.291262</td>\n",
       "      <td>0.260606</td>\n",
       "      <td>0.369231</td>\n",
       "    </tr>\n",
       "    <tr>\n",
       "      <th>1032</th>\n",
       "      <td>0.309735</td>\n",
       "      <td>0.479452</td>\n",
       "      <td>0.000000</td>\n",
       "      <td>0.246154</td>\n",
       "      <td>0.105719</td>\n",
       "      <td>0.056338</td>\n",
       "      <td>0.028269</td>\n",
       "      <td>0.645088</td>\n",
       "      <td>0.475728</td>\n",
       "      <td>0.121212</td>\n",
       "      <td>0.184615</td>\n",
       "    </tr>\n",
       "    <tr>\n",
       "      <th>1002</th>\n",
       "      <td>0.398230</td>\n",
       "      <td>0.116438</td>\n",
       "      <td>0.417722</td>\n",
       "      <td>0.088462</td>\n",
       "      <td>0.050260</td>\n",
       "      <td>0.169014</td>\n",
       "      <td>0.074205</td>\n",
       "      <td>0.387662</td>\n",
       "      <td>0.378641</td>\n",
       "      <td>0.309091</td>\n",
       "      <td>0.507692</td>\n",
       "    </tr>\n",
       "    <tr>\n",
       "      <th>487</th>\n",
       "      <td>0.495575</td>\n",
       "      <td>0.359589</td>\n",
       "      <td>0.455696</td>\n",
       "      <td>0.069231</td>\n",
       "      <td>0.032929</td>\n",
       "      <td>0.056338</td>\n",
       "      <td>0.028269</td>\n",
       "      <td>0.619193</td>\n",
       "      <td>0.291262</td>\n",
       "      <td>0.054545</td>\n",
       "      <td>0.246154</td>\n",
       "    </tr>\n",
       "    <tr>\n",
       "      <th>979</th>\n",
       "      <td>0.672566</td>\n",
       "      <td>0.226027</td>\n",
       "      <td>0.620253</td>\n",
       "      <td>0.038462</td>\n",
       "      <td>0.071057</td>\n",
       "      <td>0.028169</td>\n",
       "      <td>0.000000</td>\n",
       "      <td>0.520183</td>\n",
       "      <td>0.252427</td>\n",
       "      <td>0.181818</td>\n",
       "      <td>0.307692</td>\n",
       "    </tr>\n",
       "    <tr>\n",
       "      <th>...</th>\n",
       "      <td>...</td>\n",
       "      <td>...</td>\n",
       "      <td>...</td>\n",
       "      <td>...</td>\n",
       "      <td>...</td>\n",
       "      <td>...</td>\n",
       "      <td>...</td>\n",
       "      <td>...</td>\n",
       "      <td>...</td>\n",
       "      <td>...</td>\n",
       "      <td>...</td>\n",
       "    </tr>\n",
       "    <tr>\n",
       "      <th>640</th>\n",
       "      <td>0.469027</td>\n",
       "      <td>0.287671</td>\n",
       "      <td>0.569620</td>\n",
       "      <td>0.107692</td>\n",
       "      <td>0.064125</td>\n",
       "      <td>0.211268</td>\n",
       "      <td>0.120141</td>\n",
       "      <td>0.687738</td>\n",
       "      <td>0.504854</td>\n",
       "      <td>0.175758</td>\n",
       "      <td>0.153846</td>\n",
       "    </tr>\n",
       "    <tr>\n",
       "      <th>104</th>\n",
       "      <td>0.230088</td>\n",
       "      <td>0.253425</td>\n",
       "      <td>0.303797</td>\n",
       "      <td>0.100000</td>\n",
       "      <td>0.062392</td>\n",
       "      <td>0.056338</td>\n",
       "      <td>0.106007</td>\n",
       "      <td>0.451637</td>\n",
       "      <td>0.446602</td>\n",
       "      <td>0.090909</td>\n",
       "      <td>0.153846</td>\n",
       "    </tr>\n",
       "    <tr>\n",
       "      <th>815</th>\n",
       "      <td>0.548673</td>\n",
       "      <td>0.226027</td>\n",
       "      <td>0.417722</td>\n",
       "      <td>0.123077</td>\n",
       "      <td>0.112652</td>\n",
       "      <td>0.267606</td>\n",
       "      <td>0.113074</td>\n",
       "      <td>0.617669</td>\n",
       "      <td>0.359223</td>\n",
       "      <td>0.230303</td>\n",
       "      <td>0.369231</td>\n",
       "    </tr>\n",
       "    <tr>\n",
       "      <th>998</th>\n",
       "      <td>0.380531</td>\n",
       "      <td>0.493151</td>\n",
       "      <td>0.430380</td>\n",
       "      <td>0.038462</td>\n",
       "      <td>0.027730</td>\n",
       "      <td>0.042254</td>\n",
       "      <td>0.014134</td>\n",
       "      <td>0.416603</td>\n",
       "      <td>0.242718</td>\n",
       "      <td>0.090909</td>\n",
       "      <td>0.107692</td>\n",
       "    </tr>\n",
       "    <tr>\n",
       "      <th>1075</th>\n",
       "      <td>0.398230</td>\n",
       "      <td>0.089041</td>\n",
       "      <td>0.430380</td>\n",
       "      <td>0.084615</td>\n",
       "      <td>0.064125</td>\n",
       "      <td>0.619718</td>\n",
       "      <td>0.215548</td>\n",
       "      <td>0.580350</td>\n",
       "      <td>0.553398</td>\n",
       "      <td>0.321212</td>\n",
       "      <td>0.276923</td>\n",
       "    </tr>\n",
       "  </tbody>\n",
       "</table>\n",
       "<p>1119 rows × 11 columns</p>\n",
       "</div>"
      ],
      "text/plain": [
       "      fixed acidity  volatile acidity  citric acid  residual sugar  chlorides  \\\n",
       "1109       0.548673          0.239726     0.544304        0.092308   0.237435   \n",
       "1032       0.309735          0.479452     0.000000        0.246154   0.105719   \n",
       "1002       0.398230          0.116438     0.417722        0.088462   0.050260   \n",
       "487        0.495575          0.359589     0.455696        0.069231   0.032929   \n",
       "979        0.672566          0.226027     0.620253        0.038462   0.071057   \n",
       "...             ...               ...          ...             ...        ...   \n",
       "640        0.469027          0.287671     0.569620        0.107692   0.064125   \n",
       "104        0.230088          0.253425     0.303797        0.100000   0.062392   \n",
       "815        0.548673          0.226027     0.417722        0.123077   0.112652   \n",
       "998        0.380531          0.493151     0.430380        0.038462   0.027730   \n",
       "1075       0.398230          0.089041     0.430380        0.084615   0.064125   \n",
       "\n",
       "      free sulfur dioxide  total sulfur dioxide   density        pH  \\\n",
       "1109             0.366197              0.212014  0.619193  0.291262   \n",
       "1032             0.056338              0.028269  0.645088  0.475728   \n",
       "1002             0.169014              0.074205  0.387662  0.378641   \n",
       "487              0.056338              0.028269  0.619193  0.291262   \n",
       "979              0.028169              0.000000  0.520183  0.252427   \n",
       "...                   ...                   ...       ...       ...   \n",
       "640              0.211268              0.120141  0.687738  0.504854   \n",
       "104              0.056338              0.106007  0.451637  0.446602   \n",
       "815              0.267606              0.113074  0.617669  0.359223   \n",
       "998              0.042254              0.014134  0.416603  0.242718   \n",
       "1075             0.619718              0.215548  0.580350  0.553398   \n",
       "\n",
       "      sulphates   alcohol  \n",
       "1109   0.260606  0.369231  \n",
       "1032   0.121212  0.184615  \n",
       "1002   0.309091  0.507692  \n",
       "487    0.054545  0.246154  \n",
       "979    0.181818  0.307692  \n",
       "...         ...       ...  \n",
       "640    0.175758  0.153846  \n",
       "104    0.090909  0.153846  \n",
       "815    0.230303  0.369231  \n",
       "998    0.090909  0.107692  \n",
       "1075   0.321212  0.276923  \n",
       "\n",
       "[1119 rows x 11 columns]"
      ]
     },
     "metadata": {},
     "output_type": "display_data"
    }
   ],
   "source": [
    "display(X_train)"
   ]
  },
  {
   "cell_type": "markdown",
   "metadata": {},
   "source": [
    "\n",
    "We've selected a three-layer neural network with more than 1500 neurons, which should be able to learn relatively complex patterns in the data."
   ]
  },
  {
   "cell_type": "code",
   "execution_count": 120,
   "metadata": {},
   "outputs": [
    {
     "name": "stderr",
     "output_type": "stream",
     "text": [
      "c:\\Users\\BS567\\Documents\\Neural Network\\deep learning\\deep-learning\\.venv\\lib\\site-packages\\keras\\src\\layers\\core\\dense.py:87: UserWarning: Do not pass an `input_shape`/`input_dim` argument to a layer. When using Sequential models, prefer using an `Input(shape)` object as the first layer in the model instead.\n",
      "  super().__init__(activity_regularizer=activity_regularizer, **kwargs)\n"
     ]
    }
   ],
   "source": [
    "from tensorflow import keras\n",
    "from tensorflow.keras import layers\n",
    "\n",
    "model = keras.Sequential([\n",
    "    layers.Dense(512, activation='relu', input_shape=[11]),\n",
    "    layers.Dense(512, activation='relu'),\n",
    "    layers.Dense(512, activation='relu'),\n",
    "    layers.Dense(1)\n",
    "])"
   ]
  },
  {
   "cell_type": "markdown",
   "metadata": {},
   "source": [
    "#Definign the architechture model of the process"
   ]
  },
  {
   "cell_type": "code",
   "execution_count": 121,
   "metadata": {},
   "outputs": [],
   "source": [
    "model.compile(\n",
    "    optimizer='adam',\n",
    "    loss='mae'\n",
    ")"
   ]
  },
  {
   "cell_type": "markdown",
   "metadata": {},
   "source": [
    "Ready to start training. We will define 256 rows of training data at 10 epoch."
   ]
  },
  {
   "cell_type": "code",
   "execution_count": 122,
   "metadata": {},
   "outputs": [
    {
     "name": "stdout",
     "output_type": "stream",
     "text": [
      "Epoch 1/10\n",
      "\u001b[1m5/5\u001b[0m \u001b[32m━━━━━━━━━━━━━━━━━━━━\u001b[0m\u001b[37m\u001b[0m \u001b[1m1s\u001b[0m 37ms/step - loss: 0.3636 - val_loss: 0.1310\n",
      "Epoch 2/10\n",
      "\u001b[1m5/5\u001b[0m \u001b[32m━━━━━━━━━━━━━━━━━━━━\u001b[0m\u001b[37m\u001b[0m \u001b[1m0s\u001b[0m 16ms/step - loss: 0.1408 - val_loss: 0.1225\n",
      "Epoch 3/10\n",
      "\u001b[1m5/5\u001b[0m \u001b[32m━━━━━━━━━━━━━━━━━━━━\u001b[0m\u001b[37m\u001b[0m \u001b[1m0s\u001b[0m 15ms/step - loss: 0.1327 - val_loss: 0.1166\n",
      "Epoch 4/10\n",
      "\u001b[1m5/5\u001b[0m \u001b[32m━━━━━━━━━━━━━━━━━━━━\u001b[0m\u001b[37m\u001b[0m \u001b[1m0s\u001b[0m 19ms/step - loss: 0.1215 - val_loss: 0.1134\n",
      "Epoch 5/10\n",
      "\u001b[1m5/5\u001b[0m \u001b[32m━━━━━━━━━━━━━━━━━━━━\u001b[0m\u001b[37m\u001b[0m \u001b[1m0s\u001b[0m 17ms/step - loss: 0.1215 - val_loss: 0.1124\n",
      "Epoch 6/10\n",
      "\u001b[1m5/5\u001b[0m \u001b[32m━━━━━━━━━━━━━━━━━━━━\u001b[0m\u001b[37m\u001b[0m \u001b[1m0s\u001b[0m 13ms/step - loss: 0.1145 - val_loss: 0.1101\n",
      "Epoch 7/10\n",
      "\u001b[1m5/5\u001b[0m \u001b[32m━━━━━━━━━━━━━━━━━━━━\u001b[0m\u001b[37m\u001b[0m \u001b[1m0s\u001b[0m 12ms/step - loss: 0.1069 - val_loss: 0.1094\n",
      "Epoch 8/10\n",
      "\u001b[1m5/5\u001b[0m \u001b[32m━━━━━━━━━━━━━━━━━━━━\u001b[0m\u001b[37m\u001b[0m \u001b[1m0s\u001b[0m 12ms/step - loss: 0.1058 - val_loss: 0.1057\n",
      "Epoch 9/10\n",
      "\u001b[1m5/5\u001b[0m \u001b[32m━━━━━━━━━━━━━━━━━━━━\u001b[0m\u001b[37m\u001b[0m \u001b[1m0s\u001b[0m 14ms/step - loss: 0.1042 - val_loss: 0.1041\n",
      "Epoch 10/10\n",
      "\u001b[1m5/5\u001b[0m \u001b[32m━━━━━━━━━━━━━━━━━━━━\u001b[0m\u001b[37m\u001b[0m \u001b[1m0s\u001b[0m 14ms/step - loss: 0.1013 - val_loss: 0.1019\n"
     ]
    }
   ],
   "source": [
    "history = model.fit(X_train, Y_train, \n",
    "                    validation_data=(X_valid, Y_valid), \n",
    "                    batch_size=256, epochs=10)"
   ]
  },
  {
   "cell_type": "markdown",
   "metadata": {},
   "source": [
    "The fit method in fact keeps a record of the loss produced during training in a History object. The the loss track of the traning model"
   ]
  },
  {
   "cell_type": "code",
   "execution_count": 123,
   "metadata": {},
   "outputs": [
    {
     "data": {
      "text/plain": [
       "[<matplotlib.lines.Line2D at 0x19d0aae79d0>]"
      ]
     },
     "execution_count": 123,
     "metadata": {},
     "output_type": "execute_result"
    },
    {
     "data": {
      "image/png": "[encoded data removed]",
      "text/plain": [
       "<Figure size 640x480 with 1 Axes>"
      ]
     },
     "metadata": {},
     "output_type": "display_data"
    }
   ],
   "source": [
    "from matplotlib import pyplot as plt\n",
    "history_df = pd.DataFrame(history.history)\n",
    "plt.plot(history_df['loss'])"
   ]
  },
  {
   "cell_type": "markdown",
   "metadata": {},
   "source": [
    "The loss levels reduce by each epochs go by. When the loss curve becomes horizontal like that, it means the model has learned all it can and there would be no reason continue for additional epochs.\n"
   ]
  }
 ],
 "metadata": {
  "kernelspec": {
   "display_name": ".venv",
   "language": "python",
   "name": "python3"
  },
  "language_info": {
   "codemirror_mode": {
    "name": "ipython",
    "version": 3
   },
   "file_extension": ".py",
   "mimetype": "text/x-python",
   "name": "python",
   "nbconvert_exporter": "python",
   "pygments_lexer": "ipython3",
   "version": "3.10.6"
  }
 },
 "nbformat": 4,
 "nbformat_minor": 2
}
